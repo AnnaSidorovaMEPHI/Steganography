{
 "cells": [
  {
   "cell_type": "code",
   "execution_count": null,
   "metadata": {},
   "outputs": [],
   "source": [
    "from functions import bin_alpha,bin_secret,extract_secret\n",
    "\n",
    "def spaces_after_point_encode(file1,file2):\n",
    "    with open(file1,'r') as file:\n",
    "        message=bin_secret(file.read())\n",
    "    with open(file2,'r') as file:  \n",
    "        text=file.read()\n",
    "    k=0\n",
    "    j=0\n",
    "    newtext=''\n",
    "    for i in text:\n",
    "        newtext+=i\n",
    "        if i=='.':\n",
    "            if j<len(message):\n",
    "                if text[k+1]==' ':\n",
    "                    newtext+=' '*int(message[j])\n",
    "                else:\n",
    "                    newtext+=' '*(int(message[j])+1)\n",
    "            j+=1\n",
    "        k+=1\n",
    "    #with open('./result.txt','w') as file:  \n",
    "        #file.write(newtext)\n",
    "    return newtext #может, файл, а может, и нет..\n",
    "\n",
    "def spaces_after_point_decode(text):\n",
    "    k=0\n",
    "    message=''\n",
    "    for i in text:\n",
    "        k+=1\n",
    "        if i=='.':\n",
    "            if text[k+1]==' ':\n",
    "                message+='1'\n",
    "            else:\n",
    "                message+='0'\n",
    "    return extract_secret(message)\n",
    "\n",
    "if __name__ == \"__main__\":\n",
    "    text=spaces_after_point_encode('./secret.txt','./acupoftea.txt')\n",
    "    print(spaces_after_point_decode(text))\n",
    "        "
   ]
  }
 ],
 "metadata": {
  "kernelspec": {
   "display_name": "Python 3",
   "language": "python",
   "name": "python3"
  },
  "language_info": {
   "codemirror_mode": {
    "name": "ipython",
    "version": 3
   },
   "file_extension": ".py",
   "mimetype": "text/x-python",
   "name": "python",
   "nbconvert_exporter": "python",
   "pygments_lexer": "ipython3",
   "version": "3.7.0"
  }
 },
 "nbformat": 4,
 "nbformat_minor": 2
}
